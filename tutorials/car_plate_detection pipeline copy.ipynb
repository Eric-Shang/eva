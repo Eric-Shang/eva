{
 "cells": [
  {
   "cell_type": "markdown",
   "id": "9f2c663c",
   "metadata": {
    "pycharm": {
     "name": "#%% md\n"
    }
   },
   "source": [
    "# Object Detection Tutorial"
   ]
  },
  {
   "cell_type": "markdown",
   "id": "4df1d160",
   "metadata": {
    "pycharm": {
     "name": "#%% md\n"
    }
   },
   "source": [
    "<table align=\"left\">\n",
    "  <td>\n",
    "    <a target=\"_blank\" href=\"https://colab.research.google.com/github/georgia-tech-db/eva/blob/master/tutorials/02-object-detection.ipynb\"><img src=\"https://www.tensorflow.org/images/colab_logo_32px.png\" /> Run on Google Colab</a>\n",
    "  </td>\n",
    "  <td>\n",
    "    <a target=\"_blank\" href=\"https://github.com/georgia-tech-db/eva/blob/master/tutorials/02-object-detection.ipynb\"><img src=\"https://www.tensorflow.org/images/GitHub-Mark-32px.png\" /> View source on GitHub</a>\n",
    "  </td>\n",
    "  <td>\n",
    "    <a target=\"_blank\" href=\"https://raw.githubusercontent.com/georgia-tech-db/eva/master/tutorials/02-object-detection.ipynb\"><img src=\"https://www.tensorflow.org/images/download_logo_32px.png\" /> Download notebook</a>\n",
    "  </td>\n",
    "</table>"
   ]
  },
  {
   "cell_type": "markdown",
   "id": "691f5c48",
   "metadata": {
    "pycharm": {
     "name": "#%% md\n"
    }
   },
   "source": [
    "### Start EVA server\n",
    "\n",
    "We are reusing the start server notebook for launching the EVA server."
   ]
  },
  {
   "cell_type": "code",
   "execution_count": 1,
   "id": "3309b54e",
   "metadata": {
    "pycharm": {
     "name": "#%%\n"
    }
   },
   "outputs": [
    {
     "name": "stderr",
     "output_type": "stream",
     "text": [
      "kill: usage: kill [-s sigspec | -n signum | -sigspec] pid | jobspec ... or kill -l [sigspec]\n",
      "rm: nohup.out: No such file or directory\n",
      "cat: nohup.out: No such file or directory\n",
      "22/12/06 13:14:41 WARN Utils: Your hostname, Jiachengs-MacBook-Air-2.local resolves to a loopback address: 127.0.0.1; using 10.180.244.77 instead (on interface en0)\n",
      "22/12/06 13:14:41 WARN Utils: Set SPARK_LOCAL_IP if you need to bind to another address\n",
      "WARNING: An illegal reflective access operation has occurred\n",
      "WARNING: Illegal reflective access by org.apache.spark.unsafe.Platform (file:/Users/jiachengshang/CS4420/4420Project/test_eva_db/lib/python3.9/site-packages/pyspark/jars/spark-unsafe_2.12-3.0.2.jar) to constructor java.nio.DirectByteBuffer(long,int)\n",
      "WARNING: Please consider reporting this to the maintainers of org.apache.spark.unsafe.Platform\n",
      "WARNING: Use --illegal-access=warn to enable warnings of further illegal reflective access operations\n",
      "WARNING: All illegal access operations will be denied in a future release\n",
      "22/12/06 13:14:41 WARN NativeCodeLoader: Unable to load native-hadoop library for your platform... using builtin-java classes where applicable\n",
      "Using Spark's default log4j profile: org/apache/spark/log4j-defaults.properties\n",
      "Setting default log level to \"WARN\".\n",
      "To adjust logging level use sc.setLogLevel(newLevel). For SparkR, use setLogLevel(newLevel).\n",
      "12-06-2022 13:14:43 WARNING[create_udf_executor:create_udf_executor.py:exec:0042] UDF FastRCNNObjectDetector already exists, nothing added.\n",
      "12-06-2022 13:14:43 WARNING[create_udf_executor:create_udf_executor.py:exec:0042] UDF Array_Count already exists, nothing added.\n",
      "12-06-2022 13:14:43 WARNING[create_udf_executor:create_udf_executor.py:exec:0042] UDF Crop already exists, nothing added.\n",
      "12-06-2022 13:14:43 WARNING[create_udf_executor:create_udf_executor.py:exec:0042] UDF DummyObjectDetector already exists, nothing added.\n",
      "12-06-2022 13:14:43 WARNING[create_udf_executor:create_udf_executor.py:exec:0042] UDF DummyMultiObjectDetector already exists, nothing added.\n",
      "12-06-2022 13:14:43 CRITICAL[server:server.py:start_server:0098] Start Server\n",
      "12-06-2022 13:14:43 CRITICAL[server:server.py:start_server:0117] PID(40077) serving on ('0.0.0.0', 5432)\n"
     ]
    },
    {
     "name": "stdout",
     "output_type": "stream",
     "text": [
      "\r\n",
      "\u001B[1m[\u001B[0m\u001B[34;49mnotice\u001B[0m\u001B[1;39;49m]\u001B[0m\u001B[39;49m A new release of pip available: \u001B[0m\u001B[31;49m22.3\u001B[0m\u001B[39;49m -> \u001B[0m\u001B[32;49m22.3.1\u001B[0m\r\n",
      "\u001B[1m[\u001B[0m\u001B[34;49mnotice\u001B[0m\u001B[1;39;49m]\u001B[0m\u001B[39;49m To update, run: \u001B[0m\u001B[32;49mpip install --upgrade pip\u001B[0m\r\n",
      "Note: you may need to restart the kernel to use updated packages.\n"
     ]
    }
   ],
   "source": [
    "#!wget -nc \"https://raw.githubusercontent.com/georgia-tech-db/eva/master/tutorials/00-start-eva-server.ipynb\"\n",
    "%run 00-start-eva-server.ipynb\n",
    "cursor = connect_to_server()"
   ]
  },
  {
   "cell_type": "code",
   "execution_count": 2,
   "id": "e8f3e3ca",
   "metadata": {},
   "outputs": [
    {
     "name": "stderr",
     "output_type": "stream",
     "text": [
      "/Users/jiachengshang/CS4420/4420Project/test_eva_db/lib/python3.9/site-packages/torchvision/io/image.py:11: UserWarning: Failed to load image Python extension: dlopen(/Users/jiachengshang/CS4420/4420Project/test_eva_db/lib/python3.9/site-packages/torchvision/image.so, 0x0006): Library not loaded: @rpath/libpng16.16.dylib\n",
      "  Referenced from: <5F6B6919-410D-397C-98F2-12C5934F9DBE> /Users/jiachengshang/CS4420/4420Project/test_eva_db/lib/python3.9/site-packages/torchvision/image.so\n",
      "  Reason: tried: '/Users/malfet/miniforge3/envs/py_39_torch-1.10.2/lib/libpng16.16.dylib' (no such file), '/System/Volumes/Preboot/Cryptexes/OS/Users/malfet/miniforge3/envs/py_39_torch-1.10.2/lib/libpng16.16.dylib' (no such file), '/Users/malfet/miniforge3/envs/py_39_torch-1.10.2/lib/libpng16.16.dylib' (no such file), '/System/Volumes/Preboot/Cryptexes/OS/Users/malfet/miniforge3/envs/py_39_torch-1.10.2/lib/libpng16.16.dylib' (no such file), '/Users/malfet/miniforge3/envs/py_39_torch-1.10.2/lib/libpng16.16.dylib' (no such file), '/System/Volumes/Preboot/Cryptexes/OS/Users/malfet/miniforge3/envs/py_39_torch-1.10.2/lib/libpng16.16.dylib' (no such file), '/Users/malfet/miniforge3/envs/py_39_torch-1.10.2/lib/libpng16.16.dylib' (no such file), '/System/Volumes/Preboot/Cryptexes/OS/Users/malfet/miniforge3/envs/py_39_torch-1.10.2/lib/libpng16.16.dylib' (no such file), '/Users/jiachengshang/miniconda3/lib/libpng16.16.dylib' (no such file), '/System/Volumes/Preboot/Cryptexes/OS/Users/jiachengshang/miniconda3/lib/libpng16.16.dylib' (no such file), '/Users/jiachengshang/miniconda3/lib/libpng16.16.dylib' (no such file), '/System/Volumes/Preboot/Cryptexes/OS/Users/jiachengshang/miniconda3/lib/libpng16.16.dylib' (no such file), '/Users/jiachengshang/miniconda3/lib/python3.9/lib-dynload/../../libpng16.16.dylib' (no such file), '/Users/jiachengshang/miniconda3/lib/libpng16.16.dylib' (no such file), '/System/Volumes/Preboot/Cryptexes/OS/Users/jiachengshang/miniconda3/lib/libpng16.16.dylib' (no such file), '/Users/jiachengshang/miniconda3/bin/../lib/libpng16.16.dylib' (no such file), '/System/Volumes/Preboot/Cryptexes/OS@rpath/libpng16.16.dylib' (no such file), '/Users/malfet/miniforge3/envs/py_39_torch-1.10.2/lib/libpng16.16.dylib' (no such file), '/System/Volumes/Preboot/Cryptexes/OS/Users/malfet/miniforge3/envs/py_39_torch-1.10.2/lib/libpng16.16.dylib' (no such file), '/Users/malfet/miniforge3/envs/py_39_torch-1.10.2/lib/libpng16.16.dylib' (no such file), '/System/Volumes/Preboot/Cryptexes/OS/Users/malfet/miniforge3/envs/py_39_torch-1.10.2/lib/libpng16.16.dylib' (no such file), '/Users/malfet/miniforge3/envs/py_39_torch-1.10.2/lib/libpng16.16.dylib' (no such file), '/System/Volumes/Preboot/Cryptexes/OS/Users/malfet/miniforge3/envs/py_39_torch-1.10.2/lib/libpng16.16.dylib' (no such file), '/Users/malfet/miniforge3/envs/py_39_torch-1.10.2/lib/libpng16.16.dylib' (no such file), '/System/Volumes/Preboot/Cryptexes/OS/Users/malfet/miniforge3/envs/py_39_torch-1.10.2/lib/libpng16.16.dylib' (no such file), '/Users/jiachengshang/miniconda3/lib/libpng16.16.dylib' (no such file), '/System/Volumes/Preboot/Cryptexes/OS/Users/jiachengshang/miniconda3/lib/libpng16.16.dylib' (no such file), '/Users/jiachengshang/miniconda3/lib/libpng16.16.dylib' (no such file), '/System/Volumes/Preboot/Cryptexes/OS/Users/jiachengshang/miniconda3/lib/libpng16.16.dylib' (no such file), '/Users/jiachengshang/miniconda3/lib/python3.9/lib-dynload/../../libpng16.16.dylib' (no such file), '/Users/jiachengshang/miniconda3/lib/libpng16.16.dylib' (no such file), '/System/Volumes/Preboot/Cryptexes/OS/Users/jiachengshang/miniconda3/lib/libpng16.16.dylib' (no such file), '/Users/jiachengshang/miniconda3/bin/../lib/libpng16.16.dylib' (no such file), '/usr/local/lib/libpng16.16.dylib' (no such file), '/usr/lib/libpng16.16.dylib' (no such file, not in dyld cache)\n",
      "  warn(f\"Failed to load image Python extension: {e}\")\n"
     ]
    }
   ],
   "source": [
    "import cv2\n",
    "import numpy as np\n",
    "from pprint import pprint\n",
    "from matplotlib import pyplot as plt\n",
    "import car_plate_detector\n",
    "import ocr_extractor\n",
    "import os\n",
    "from ipywidgets import Video, Image"
   ]
  },
  {
   "cell_type": "code",
   "execution_count": 3,
   "id": "48bdfbec",
   "metadata": {},
   "outputs": [],
   "source": [
    "def image_resize(image, width=None, height=None, inter=cv2.INTER_CUBIC):\n",
    "    # https://stackoverflow.com/questions/44650888/resize-an-image-without-distortion-opencv\n",
    "    dim = None\n",
    "    (h, w) = image.shape[:2]\n",
    "\n",
    "    if width is None and height is None:\n",
    "        return image\n",
    "\n",
    "    if width is None:\n",
    "        r = height / float(h)\n",
    "        dim = (int(w * r), height)\n",
    "    else:\n",
    "        r = width / float(w)\n",
    "        dim = (width, int(h * r))\n",
    "\n",
    "    resized = cv2.resize(image, dim, interpolation=inter)\n",
    "\n",
    "    return resized\n",
    "\n",
    "def unsharp_mask(image, kernel_size=(5, 5), sigma=1.0, amount=1.0, threshold=0):\n",
    "    # https://stackoverflow.com/questions/4993082/how-to-sharpen-an-image-in-opencv\n",
    "    blurred = cv2.GaussianBlur(image, kernel_size, sigma)\n",
    "    sharpened = float(amount + 1) * image - float(amount) * blurred\n",
    "    sharpened = np.maximum(sharpened, np.zeros(sharpened.shape))\n",
    "    sharpened = np.minimum(sharpened, 255 * np.ones(sharpened.shape))\n",
    "    sharpened = sharpened.round().astype(np.uint8)\n",
    "    if threshold > 0:\n",
    "        low_contrast_mask = np.absolute(image - blurred) < threshold\n",
    "        np.copyto(sharpened, image, where=low_contrast_mask)\n",
    "    return sharpened\n",
    "\n",
    "def show_images(images, cols=1, prefix='Image ', titles=None):\n",
    "    # https://gist.github.com/soply/f3eec2e79c165e39c9d540e916142ae1\n",
    "    assert((titles is None)or (len(images) == len(titles)))\n",
    "    n_images = len(images)\n",
    "    if titles is None:\n",
    "        titles = [f'{prefix} ({i})' for i in range(1, n_images + 1)]\n",
    "    fig = plt.figure()\n",
    "    for n, (image, title) in enumerate(zip(images, titles)):\n",
    "        a = fig.add_subplot(cols, int(np.ceil(n_images/float(cols))), n + 1)\n",
    "        if image.ndim == 2:\n",
    "            plt.gray()\n",
    "        plt.imshow(image)\n",
    "        a.set_title(title)\n",
    "    fig.set_size_inches(np.array(fig.get_size_inches()) * n_images)\n",
    "    plt.show()\n",
    "\n",
    "def remove_noise(image):\n",
    "    gray = cv2.cvtColor(image, cv2.COLOR_BGR2GRAY)\n",
    "    thresh = cv2.threshold(gray, 0, 255, cv2.THRESH_BINARY_INV + cv2.THRESH_OTSU)[1]\n",
    "\n",
    "    # Morph open to remove noise\n",
    "    kernel = cv2.getStructuringElement(cv2.MORPH_RECT, (2,2))\n",
    "    opening = cv2.morphologyEx(thresh, cv2.MORPH_OPEN, kernel, iterations=1)\n",
    "\n",
    "    # Find contours and remove small noise\n",
    "    cnts = cv2.findContours(opening, cv2.RETR_EXTERNAL, cv2.CHAIN_APPROX_SIMPLE)\n",
    "    cnts = cnts[0] if len(cnts) == 2 else cnts[1]\n",
    "    for c in cnts:\n",
    "        area = cv2.contourArea(c)\n",
    "        if area < 200:\n",
    "            cv2.drawContours(opening, [c], -1, 0, -1)\n",
    "\n",
    "    # Invert and apply slight Gaussian blur\n",
    "    result = 255 - opening\n",
    "    #result = cv2.GaussianBlur(result, (3,3), 0)\n",
    "    return result\n",
    "\n",
    "from pprint import pprint\n",
    "import cv2\n",
    "import numpy as np\n",
    "from matplotlib import pyplot as plt\n",
    "\n",
    "def annotate_video(detections, input_video_path):\n",
    "    color1=(207, 248, 64)\n",
    "    color2=(255, 49, 49)\n",
    "    thickness=4\n",
    "\n",
    "    vcap = cv2.VideoCapture(input_video_path)\n",
    "    width = int(vcap.get(3))\n",
    "    height = int(vcap.get(4))\n",
    "\n",
    "\n",
    "    frame_id = 0\n",
    "    # Capture frame-by-frame\n",
    "    # ret = 1 if the video is captured; frame is the image\n",
    "    ret, frame = vcap.read()\n",
    "    car_plates = []\n",
    "\n",
    "    while ret:\n",
    "        df = detections\n",
    "        df = df[['carplatedetector.results']][df.index == frame_id]\n",
    "        if df.size:\n",
    "            dfList = df.values.tolist()\n",
    "            mask = np.array(dfList[0][0])\n",
    "            mask = mask.astype(np.uint8)\n",
    "            #plt.imshow(mask)\n",
    "            #frame = cv2.cvtColor(np.array(frame, copy=True), cv2.COLOR_RGB2BGR)\n",
    "            contours, hierarchy = cv2.findContours(\n",
    "                mask, cv2.RETR_TREE, cv2.CHAIN_APPROX_SIMPLE)\n",
    "            bboxes = []\n",
    "            j = 0\n",
    "            for c in contours:\n",
    "                x,y,w,h = cv2.boundingRect(c)\n",
    "                if w >= 10 and h >= 10:\n",
    "                    plate = frame[y:y+h, x:x+w]\n",
    "                    # resize_height = 256\n",
    "                    # plate = image_resize(\n",
    "                    #      plate, height= resize_height)\n",
    "                    #\n",
    "                    # sharpen_amount = 50\n",
    "                    # plate = unsharp_mask(plate, amount=sharpen_amount)\n",
    "                    # plate = cv2.cvtColor(np.array(plate), cv2.COLOR_BGR2RGB)\n",
    "                    # #plate = remove_noise(plate)\n",
    "                    #plate = cv2.fastNlMeansDenoisingColored(plate,None,20,10,7,21)\n",
    "                    fourcc = cv2.VideoWriter_fourcc('m', 'p', '4', 'v')\n",
    "                    fps = 25\n",
    "                    dim = plate.shape[:2]\n",
    "                    video = cv2.VideoWriter(\"frame\" + str(frame_id)+ \"_plate\" + str(j) + \".mp4\", fourcc, fps, (dim[1], dim[0]))\n",
    "                    print(plate.shape)\n",
    "                    print([x, y, w, h])\n",
    "                    plate = cv2.cvtColor(plate, cv2.COLOR_RGB2BGR)\n",
    "                    for _ in range(50): video.write(plate)\n",
    "                    video.release()\n",
    "                    \"\"\"\n",
    "                    x1, y1, x2, y2 = bbox\n",
    "                    x1, y1, x2, y2 = int(x1), int(y1), int(x2), int(y2)\n",
    "                    # object bbox\n",
    "                    img=cv2.rectangle(frame, (x1, y1), (x2, y2), color1, thickness) \n",
    "                    # object label\n",
    "                    cv2.putText(img, label, (x1, y1-10), cv2.FONT_HERSHEY_SIMPLEX, 10, color1, thickness) \n",
    "                    # frame label\n",
    "                    cv2.putText(img, 'Frame ID: ' + str(frame_id), (700, 500), cv2.FONT_HERSHEY_SIMPLEX, 1.2, color2, thickness)\n",
    "                video.write(img)\n",
    "                    \"\"\"\n",
    "                    bbox = [x, y, x + w, y + h]\n",
    "\n",
    "                    if frame_id % 5 == 0:\n",
    "                        plt.imshow(plate)\n",
    "                        plt.show()\n",
    "                # show_images(plates,  prefix='License plate')\n",
    "                    bboxes.append(bbox)\n",
    "                    j += 1\n",
    "            car_plates.append(bboxes)\n",
    "        frame_id+=1\n",
    "        ret, frame = vcap.read()\n",
    "    return car_plates\n",
    "\n",
    "def visualize_video(car_plates, labels, input_video_path):\n",
    "    color1=(207, 248, 64)\n",
    "    color2=(255, 49, 49)\n",
    "    thickness = 4\n",
    "\n",
    "    vcap = cv2.VideoCapture(input_video_path)\n",
    "    width = int(vcap.get(3))\n",
    "    height = int(vcap.get(4))\n",
    "    fps = vcap.get(5)\n",
    "    fourcc = cv2.VideoWriter_fourcc('m', 'p', '4', 'v') #codec\n",
    "    file_name = input_video_path.split(\"/\")[-1]\n",
    "    output_path = os.path.join(\"result\", file_name)\n",
    "    video=cv2.VideoWriter(output_path, fourcc, fps, (width,height))\n",
    "\n",
    "    frame_id = 0\n",
    "    # Capture frame-by-frame\n",
    "    # ret = 1 if the video is captured; frame is the image\n",
    "    ret, frame = vcap.read()\n",
    "    while ret and frame_id < len(car_plates):\n",
    "            bboxes = car_plates[frame_id]\n",
    "            for i, bbox in enumerate(bboxes):\n",
    "                x1, y1, x2, y2 = bbox\n",
    "                x1, y1, x2, y2 = int(x1), int(y1), int(x2), int(y2)\n",
    "\n",
    "                # object bbox\n",
    "                img=cv2.rectangle(frame, (x1, y1), (x2, y2), color1, thickness)\n",
    "                # object label\n",
    "                if i < len(labels[frame_id]):\n",
    "                    cv2.putText(img, labels[frame_id][i].upper(), (x1 - 20, y1 - 5), cv2.FONT_HERSHEY_SIMPLEX, 1, color1, thickness)\n",
    "                # frame label\n",
    "                cv2.putText(img, 'Frame ID: ' + str(frame_id), (700, 500), cv2.FONT_HERSHEY_SIMPLEX, 1.2, color2, thickness)\n",
    "            for _ in range(50):\n",
    "                video.write(img)\n",
    "\n",
    "            frame_id += 1\n",
    "            ret, frame = vcap.read()\n",
    "    video.release()\n",
    "    vcap.release()"
   ]
  },
  {
   "cell_type": "markdown",
   "id": "b42c3a7e",
   "metadata": {
    "pycharm": {
     "name": "#%% md\n"
    }
   },
   "source": [
    "### Getting the Video Files"
   ]
  },
  {
   "cell_type": "code",
   "execution_count": 4,
   "id": "aab3ff74",
   "metadata": {
    "pycharm": {
     "name": "#%%\n"
    }
   },
   "outputs": [
    {
     "name": "stderr",
     "output_type": "stream",
     "text": [
      "12-06-2022 13:14:52 ERROR [drop_executor:drop_executor.py:exec:0059] Failed to drop TABLE REF:: ( ObjectDetectionVideos SAMPLE FREQUENCY None)\n",
      "NoneType: None\n"
     ]
    },
    {
     "name": "stdout",
     "output_type": "stream",
     "text": [
      "@status: 0\n",
      "@batch: Batch Object:\n",
      "@dataframe:                                                    0\n",
      "0  Table Successfully dropped: ObjectDetectionVideos\n",
      "@batch_size: 1\n",
      "@identifier_column: None\n",
      "@query_time: 0.023670707999999152\n",
      "@status: 0\n",
      "@batch: Batch Object:\n",
      "@dataframe:                                                   0\n",
      "0  Video successfully added at location: data/1.mp4\n",
      "@batch_size: 1\n",
      "@identifier_column: None\n",
      "@query_time: 0.02851516700000012\n",
      "@status: 0\n",
      "@batch: Batch Object:\n",
      "@dataframe:                                            0\n",
      "0  UDF CarPlateDetector successfully dropped\n",
      "@batch_size: 1\n",
      "@identifier_column: None\n",
      "@query_time: 0.0036323329999987664\n"
     ]
    },
    {
     "name": "stderr",
     "output_type": "stream",
     "text": [
      "/Users/jiachengshang/CS4420/4420Project/test_eva_db/lib/python3.9/site-packages/torchvision/io/image.py:11: UserWarning: Failed to load image Python extension: dlopen(/Users/jiachengshang/CS4420/4420Project/test_eva_db/lib/python3.9/site-packages/torchvision/image.so, 0x0006): Library not loaded: @rpath/libpng16.16.dylib\n",
      "  Referenced from: <5F6B6919-410D-397C-98F2-12C5934F9DBE> /Users/jiachengshang/CS4420/4420Project/test_eva_db/lib/python3.9/site-packages/torchvision/image.so\n",
      "  Reason: tried: '/Users/malfet/miniforge3/envs/py_39_torch-1.10.2/lib/libpng16.16.dylib' (no such file), '/System/Volumes/Preboot/Cryptexes/OS/Users/malfet/miniforge3/envs/py_39_torch-1.10.2/lib/libpng16.16.dylib' (no such file), '/Users/malfet/miniforge3/envs/py_39_torch-1.10.2/lib/libpng16.16.dylib' (no such file), '/System/Volumes/Preboot/Cryptexes/OS/Users/malfet/miniforge3/envs/py_39_torch-1.10.2/lib/libpng16.16.dylib' (no such file), '/Users/malfet/miniforge3/envs/py_39_torch-1.10.2/lib/libpng16.16.dylib' (no such file), '/System/Volumes/Preboot/Cryptexes/OS/Users/malfet/miniforge3/envs/py_39_torch-1.10.2/lib/libpng16.16.dylib' (no such file), '/Users/malfet/miniforge3/envs/py_39_torch-1.10.2/lib/libpng16.16.dylib' (no such file), '/System/Volumes/Preboot/Cryptexes/OS/Users/malfet/miniforge3/envs/py_39_torch-1.10.2/lib/libpng16.16.dylib' (no such file), '/Users/jiachengshang/miniconda3/lib/libpng16.16.dylib' (no such file), '/System/Volumes/Preboot/Cryptexes/OS/Users/jiachengshang/miniconda3/lib/libpng16.16.dylib' (no such file), '/Users/jiachengshang/miniconda3/lib/libpng16.16.dylib' (no such file), '/System/Volumes/Preboot/Cryptexes/OS/Users/jiachengshang/miniconda3/lib/libpng16.16.dylib' (no such file), '/Users/jiachengshang/miniconda3/lib/python3.9/lib-dynload/../../libpng16.16.dylib' (no such file), '/Users/jiachengshang/miniconda3/lib/libpng16.16.dylib' (no such file), '/System/Volumes/Preboot/Cryptexes/OS/Users/jiachengshang/miniconda3/lib/libpng16.16.dylib' (no such file), '/Users/jiachengshang/miniconda3/bin/../lib/libpng16.16.dylib' (no such file), '/System/Volumes/Preboot/Cryptexes/OS@rpath/libpng16.16.dylib' (no such file), '/Users/malfet/miniforge3/envs/py_39_torch-1.10.2/lib/libpng16.16.dylib' (no such file), '/System/Volumes/Preboot/Cryptexes/OS/Users/malfet/miniforge3/envs/py_39_torch-1.10.2/lib/libpng16.16.dylib' (no such file), '/Users/malfet/miniforge3/envs/py_39_torch-1.10.2/lib/libpng16.16.dylib' (no such file), '/System/Volumes/Preboot/Cryptexes/OS/Users/malfet/miniforge3/envs/py_39_torch-1.10.2/lib/libpng16.16.dylib' (no such file), '/Users/malfet/miniforge3/envs/py_39_torch-1.10.2/lib/libpng16.16.dylib' (no such file), '/System/Volumes/Preboot/Cryptexes/OS/Users/malfet/miniforge3/envs/py_39_torch-1.10.2/lib/libpng16.16.dylib' (no such file), '/Users/malfet/miniforge3/envs/py_39_torch-1.10.2/lib/libpng16.16.dylib' (no such file), '/System/Volumes/Preboot/Cryptexes/OS/Users/malfet/miniforge3/envs/py_39_torch-1.10.2/lib/libpng16.16.dylib' (no such file), '/Users/jiachengshang/miniconda3/lib/libpng16.16.dylib' (no such file), '/System/Volumes/Preboot/Cryptexes/OS/Users/jiachengshang/miniconda3/lib/libpng16.16.dylib' (no such file), '/Users/jiachengshang/miniconda3/lib/libpng16.16.dylib' (no such file), '/System/Volumes/Preboot/Cryptexes/OS/Users/jiachengshang/miniconda3/lib/libpng16.16.dylib' (no such file), '/Users/jiachengshang/miniconda3/lib/python3.9/lib-dynload/../../libpng16.16.dylib' (no such file), '/Users/jiachengshang/miniconda3/lib/libpng16.16.dylib' (no such file), '/System/Volumes/Preboot/Cryptexes/OS/Users/jiachengshang/miniconda3/lib/libpng16.16.dylib' (no such file), '/Users/jiachengshang/miniconda3/bin/../lib/libpng16.16.dylib' (no such file), '/usr/local/lib/libpng16.16.dylib' (no such file), '/usr/lib/libpng16.16.dylib' (no such file, not in dyld cache)\n",
      "  warn(f\"Failed to load image Python extension: {e}\")\n"
     ]
    },
    {
     "name": "stdout",
     "output_type": "stream",
     "text": [
      "@status: 0\n",
      "@batch: Batch Object:\n",
      "@dataframe:                                                    0\n",
      "0  UDF CarPlateDetector successfully added to the...\n",
      "@batch_size: 1\n",
      "@identifier_column: None\n",
      "@query_time: 1.6966915829999998\n",
      "@status: 0\n",
      "@batch: Batch Object:\n",
      "@dataframe:    objectdetectionvideos.id                           carplatedetector.results\n",
      "0                         0  [[0, 0, 0, 0, 0, 0, 0, 0, 0, 0, 0, 0, 0, 0, 0,...\n",
      "@batch_size: 1\n",
      "@identifier_column: None\n",
      "@query_time: 398.858034917\n",
      "(50, 90, 3)\n",
      "[258, 859, 90, 50]\n"
     ]
    },
    {
     "data": {
      "image/png": "[encoded data removed]",
      "text/plain": [
       "<Figure size 640x480 with 1 Axes>"
      ]
     },
     "metadata": {},
     "output_type": "display_data"
    },
    {
     "name": "stdout",
     "output_type": "stream",
     "text": [
      "(50, 92, 3)\n",
      "[2101, 598, 92, 50]\n"
     ]
    },
    {
     "data": {
      "image/png": "[encoded data removed]",
      "text/plain": [
       "<Figure size 640x480 with 1 Axes>"
      ]
     },
     "metadata": {},
     "output_type": "display_data"
    },
    {
     "name": "stdout",
     "output_type": "stream",
     "text": [
      "(49, 84, 3)\n",
      "[930, 404, 84, 49]\n"
     ]
    },
    {
     "data": {
      "image/png": "[encoded data removed]",
      "text/plain": [
       "<Figure size 640x480 with 1 Axes>"
      ]
     },
     "metadata": {},
     "output_type": "display_data"
    },
    {
     "name": "stdout",
     "output_type": "stream",
     "text": [
      "(39, 76, 3)\n",
      "[3752, 32, 76, 39]\n"
     ]
    },
    {
     "data": {
      "image/png": "[encoded data removed]",
      "text/plain": [
       "<Figure size 640x480 with 1 Axes>"
      ]
     },
     "metadata": {},
     "output_type": "display_data"
    },
    {
     "name": "stdout",
     "output_type": "stream",
     "text": [
      "@status: 0\n",
      "@batch: Batch Object:\n",
      "@dataframe:                                        0\n",
      "0  UDF OCRExtractor successfully dropped\n",
      "@batch_size: 1\n",
      "@identifier_column: None\n",
      "@query_time: 0.025378292000027614\n"
     ]
    },
    {
     "name": "stderr",
     "output_type": "stream",
     "text": [
      "CUDA not available - defaulting to CPU. Note: This module is much faster with a GPU.\n"
     ]
    },
    {
     "name": "stdout",
     "output_type": "stream",
     "text": [
      "@status: 0\n",
      "@batch: Batch Object:\n",
      "@dataframe:                                                    0\n",
      "0  UDF OCRExtractor successfully added to the dat...\n",
      "@batch_size: 1\n",
      "@identifier_column: None\n",
      "@query_time: 4.2010037919999945\n"
     ]
    },
    {
     "name": "stderr",
     "output_type": "stream",
     "text": [
      "12-06-2022 13:21:39 ERROR [drop_executor:drop_executor.py:exec:0059] Failed to drop TABLE REF:: ( ObjectDetectionVideos SAMPLE FREQUENCY None)\n",
      "NoneType: None\n",
      "CUDA not available - defaulting to CPU. Note: This module is much faster with a GPU.\n",
      "12-06-2022 13:21:44 ERROR [drop_executor:drop_executor.py:exec:0059] Failed to drop TABLE REF:: ( ObjectDetectionVideos SAMPLE FREQUENCY None)\n",
      "NoneType: None\n",
      "CUDA not available - defaulting to CPU. Note: This module is much faster with a GPU.\n",
      "12-06-2022 13:21:46 ERROR [drop_executor:drop_executor.py:exec:0059] Failed to drop TABLE REF:: ( ObjectDetectionVideos SAMPLE FREQUENCY None)\n",
      "NoneType: None\n",
      "CUDA not available - defaulting to CPU. Note: This module is much faster with a GPU.\n",
      "12-06-2022 13:21:49 ERROR [drop_executor:drop_executor.py:exec:0059] Failed to drop TABLE REF:: ( ObjectDetectionVideos SAMPLE FREQUENCY None)\n",
      "NoneType: None\n",
      "CUDA not available - defaulting to CPU. Note: This module is much faster with a GPU.\n"
     ]
    },
    {
     "name": "stdout",
     "output_type": "stream",
     "text": [
      "[['[c017726]', 'C4R247e ', 'reF6318]', '1502]']]\n"
     ]
    },
    {
     "name": "stderr",
     "output_type": "stream",
     "text": [
      "12-06-2022 13:21:54 ERROR [drop_executor:drop_executor.py:exec:0059] Failed to drop TABLE REF:: ( ObjectDetectionVideos SAMPLE FREQUENCY None)\n",
      "NoneType: None\n"
     ]
    },
    {
     "name": "stdout",
     "output_type": "stream",
     "text": [
      "@status: 0\n",
      "@batch: Batch Object:\n",
      "@dataframe:                                                    0\n",
      "0  Table Successfully dropped: ObjectDetectionVideos\n",
      "@batch_size: 1\n",
      "@identifier_column: None\n",
      "@query_time: 0.017971208000005845\n",
      "@status: 0\n",
      "@batch: Batch Object:\n",
      "@dataframe:                                                    0\n",
      "0  Video successfully added at location: data/.DS...\n",
      "@batch_size: 1\n",
      "@identifier_column: None\n",
      "@query_time: 0.021529167000039706\n",
      "@status: 0\n",
      "@batch: Batch Object:\n",
      "@dataframe:                                            0\n",
      "0  UDF CarPlateDetector successfully dropped\n",
      "@batch_size: 1\n",
      "@identifier_column: None\n",
      "@query_time: 0.0027934170000207814\n",
      "@status: 0\n",
      "@batch: Batch Object:\n",
      "@dataframe:                                                    0\n",
      "0  UDF CarPlateDetector successfully added to the...\n",
      "@batch_size: 1\n",
      "@identifier_column: None\n",
      "@query_time: 1.2033979999999929\n"
     ]
    },
    {
     "name": "stderr",
     "output_type": "stream",
     "text": [
      "OpenCV: Couldn't read video stream from file \"/Users/jiachengshang/.eva/eva_datasets/87c183b26a2ea6c4a1475bdbdc96ea43/.DS_Store\"\n",
      "[ERROR:0] global /private/var/folders/b7/g6qfbypj0tq32j5_trjh516r0000gn/T/pip-req-build-95s9ftaq/opencv/modules/videoio/src/cap.cpp (166) open VIDEOIO(CV_IMAGES): raised OpenCV exception:\n",
      "\n",
      "OpenCV(4.5.4) /private/var/folders/b7/g6qfbypj0tq32j5_trjh516r0000gn/T/pip-req-build-95s9ftaq/opencv/modules/videoio/src/cap_images.cpp:253: error: (-5:Bad argument) CAP_IMAGES: can't find starting number (in the name of file): /Users/jiachengshang/.eva/eva_datasets/87c183b26a2ea6c4a1475bdbdc96ea43/.DS_Store in function 'icvExtractPattern'\n",
      "\n",
      "\n",
      "OpenCV: Couldn't read video stream from file \"data/.DS_Store\"\n",
      "[ERROR:0] global /private/var/folders/b7/g6qfbypj0tq32j5_trjh516r0000gn/T/pip-req-build-95s9ftaq/opencv/modules/videoio/src/cap.cpp (166) open VIDEOIO(CV_IMAGES): raised OpenCV exception:\n",
      "\n",
      "OpenCV(4.5.4) /private/var/folders/b7/g6qfbypj0tq32j5_trjh516r0000gn/T/pip-req-build-95s9ftaq/opencv/modules/videoio/src/cap_images.cpp:253: error: (-5:Bad argument) CAP_IMAGES: can't find starting number (in the name of file): data/.DS_Store in function 'icvExtractPattern'\n",
      "\n",
      "\n",
      "CUDA not available - defaulting to CPU. Note: This module is much faster with a GPU.\n"
     ]
    },
    {
     "name": "stdout",
     "output_type": "stream",
     "text": [
      "@status: 0\n",
      "@batch: Batch Object:\n",
      "@dataframe: Empty DataFrame\n",
      "Columns: []\n",
      "Index: []\n",
      "@batch_size: 0\n",
      "@identifier_column: None\n",
      "@query_time: 0.9412077910000107\n",
      "@status: 0\n",
      "@batch: Batch Object:\n",
      "@dataframe:                                        0\n",
      "0  UDF OCRExtractor successfully dropped\n",
      "@batch_size: 1\n",
      "@identifier_column: None\n",
      "@query_time: 0.002591833999986193\n",
      "@status: 0\n",
      "@batch: Batch Object:\n",
      "@dataframe:                                                    0\n",
      "0  UDF OCRExtractor successfully added to the dat...\n",
      "@batch_size: 1\n",
      "@identifier_column: None\n",
      "@query_time: 2.2928382910000096\n",
      "[]\n"
     ]
    },
    {
     "name": "stderr",
     "output_type": "stream",
     "text": [
      "OpenCV: Couldn't read video stream from file \"data/.DS_Store\"\n",
      "[ERROR:0] global /private/var/folders/b7/g6qfbypj0tq32j5_trjh516r0000gn/T/pip-req-build-95s9ftaq/opencv/modules/videoio/src/cap.cpp (166) open VIDEOIO(CV_IMAGES): raised OpenCV exception:\n",
      "\n",
      "OpenCV(4.5.4) /private/var/folders/b7/g6qfbypj0tq32j5_trjh516r0000gn/T/pip-req-build-95s9ftaq/opencv/modules/videoio/src/cap_images.cpp:253: error: (-5:Bad argument) CAP_IMAGES: can't find starting number (in the name of file): data/.DS_Store in function 'icvExtractPattern'\n",
      "\n",
      "\n",
      "[ERROR:0] global /private/var/folders/b7/g6qfbypj0tq32j5_trjh516r0000gn/T/pip-req-build-95s9ftaq/opencv/modules/videoio/src/cap.cpp (597) open VIDEOIO(CV_IMAGES): raised OpenCV exception:\n",
      "\n",
      "OpenCV(4.5.4) /private/var/folders/b7/g6qfbypj0tq32j5_trjh516r0000gn/T/pip-req-build-95s9ftaq/opencv/modules/videoio/src/cap_images.cpp:253: error: (-5:Bad argument) CAP_IMAGES: can't find starting number (in the name of file): result/.DS_Store in function 'icvExtractPattern'\n",
      "\n",
      "\n"
     ]
    }
   ],
   "source": [
    "directory = \"data\"\n",
    "for filename in os.listdir(directory):\n",
    "    video_path = os.path.join(directory, filename)\n",
    "    cursor.execute('DROP TABLE ObjectDetectionVideos')\n",
    "    response = cursor.fetch_all()\n",
    "    print(response)\n",
    "    cmd = 'LOAD FILE \"' + video_path + '\" INTO ObjectDetectionVideos;'\n",
    "    cursor.execute(cmd) \n",
    "    response = cursor.fetch_all()\n",
    "    print(response)\n",
    "\n",
    "    #Video.from_file(video_path, embed=True)\n",
    "    \n",
    "    # drop car plate detector udf\n",
    "    cursor.execute(\"DROP UDF CarPlateDetector;\")\n",
    "    response = cursor.fetch_all()\n",
    "    print(response)\n",
    "\n",
    "    cursor.execute(\"\"\"CREATE UDF IF NOT EXISTS CarPlateDetector\n",
    "      INPUT  (frame NDARRAY UINT8(3, ANYDIM, ANYDIM))\n",
    "      OUTPUT (results NDARRAY FLOAT32(ANYDIM, ANYDIM))\n",
    "      TYPE  Classification\n",
    "      IMPL  'car_plate_detector.py';\n",
    "      \"\"\") # for other machines delete \"tutorials/\"\n",
    "    response = cursor.fetch_all()\n",
    "    print(response)  \n",
    "    \n",
    "    cursor.execute(\"\"\"SELECT id, CarPlateDetector(data)\n",
    "                  FROM ObjectDetectionVideos \n",
    "                  WHERE id < 1\"\"\")\n",
    "    response = cursor.fetch_all()\n",
    "    print(response)\n",
    "\n",
    "    dataframe = response.batch.frames\n",
    "    car_plates = annotate_video(dataframe, video_path)\n",
    "\n",
    "    cursor.execute(\"DROP UDF OCRExtractor;\")\n",
    "    response = cursor.fetch_all()\n",
    "    print(response)\n",
    "\n",
    "    cursor.execute(\"\"\"CREATE UDF IF NOT EXISTS OCRExtractor\n",
    "          INPUT  (frame NDARRAY UINT8(3, ANYDIM, ANYDIM))\n",
    "          OUTPUT (labels NDARRAY STR(ANYDIM), bboxes NDARRAY FLOAT32(ANYDIM, 4),\n",
    "                    scores NDARRAY FLOAT32(ANYDIM))\n",
    "          TYPE  Classification\n",
    "          IMPL  'ocr_extractor.py';\n",
    "          \"\"\")\n",
    "    response = cursor.fetch_all()\n",
    "    print(response)\n",
    "\n",
    "    labels = []\n",
    "    for i, plates in enumerate(car_plates):\n",
    "        plate_numbers = []\n",
    "        for j, _ in enumerate(plates):\n",
    "            file_name = \"frame\" + str(i)+ \"_plate\" + str(j) + \".mp4\"\n",
    "            cursor.execute('DROP TABLE ObjectDetectionVideos')\n",
    "            response = cursor.fetch_all()\n",
    "            #print(response)\n",
    "            cursor.execute('LOAD FILE \"' + file_name + '\" INTO ObjectDetectionVideos;')\n",
    "            response = cursor.fetch_all()\n",
    "            #print(response)\n",
    "            cursor.execute(\"\"\"SELECT id, OCRExtractor(data)\n",
    "                          FROM ObjectDetectionVideos\n",
    "                          WHERE id < 1\"\"\")\n",
    "            response = cursor.fetch_all()\n",
    "            #print(response)\n",
    "            df = response.batch.frames\n",
    "            df = df[['ocrextractor.labels']][df.index == 0]\n",
    "            if df.size:\n",
    "                dfList = df.values.tolist()\n",
    "                if len(dfList[0][0]) > 0:\n",
    "                  st = \"\"\n",
    "                  for item in dfList[0][0]:\n",
    "                    st += item\n",
    "                    st += \", \"\n",
    "                  st = st[:len(st)-2]\n",
    "                  plate_numbers.append(st)\n",
    "                else: plate_numbers.append(\" \")\n",
    "            else: plate_numbers.append(\" \")\n",
    "        labels.append(plate_numbers)\n",
    "    print(labels)\n",
    "\n",
    "    dataframe = response.batch.frames\n",
    "    visualize_video(car_plates, labels, video_path)\n",
    "\n"
   ]
  },
  {
   "cell_type": "code",
   "execution_count": 5,
   "id": "57b31d39",
   "metadata": {},
   "outputs": [
    {
     "name": "stdout",
     "output_type": "stream",
     "text": [
      "[]\n"
     ]
    }
   ],
   "source": [
    "print(car_plates)\n"
   ]
  },
  {
   "cell_type": "markdown",
   "id": "93777906",
   "metadata": {
    "pycharm": {
     "name": "#%% md\n"
    }
   },
   "source": [
    "### Load the surveillance videos for analysis"
   ]
  }
 ],
 "metadata": {
  "kernelspec": {
   "display_name": "Python 3 (ipykernel)",
   "language": "python",
   "name": "python3"
  },
  "language_info": {
   "codemirror_mode": {
    "name": "ipython",
    "version": 3
   },
   "file_extension": ".py",
   "mimetype": "text/x-python",
   "name": "python",
   "nbconvert_exporter": "python",
   "pygments_lexer": "ipython3",
   "version": "3.9.12"
  },
  "vscode": {
   "interpreter": {
    "hash": "12194ec050597edffa2f066b20560625d03674dac53d82b281c61fa06b361391"
   }
  }
 },
 "nbformat": 4,
 "nbformat_minor": 5
}